{
 "cells": [
  {
   "cell_type": "code",
   "execution_count": null,
   "id": "25f2df8b-ee1b-4c96-ba41-58f09107c8ed",
   "metadata": {},
   "outputs": [],
   "source": [
    "# https://www.youtube.com/watch?v=P6sfmUTpUmc&list=PLAqhIrjkxbuWI23v9cThsA9GvCAUhRvKZ&index=4\n",
    "\n",
    "# Learning to make Makemore by Andrej Karpathy!\n",
    "# Makemore is a Character Level Language Model\n",
    "# Treats every input as a sequence of individual characters\n",
    "# predict next character in the sequence\n",
    "# \n",
    "# Implementing: Recurrent Neural Networks"
   ]
  },
  {
   "cell_type": "code",
   "execution_count": 1,
   "id": "f87ddd05-d090-4d5b-b250-3438065136e5",
   "metadata": {},
   "outputs": [],
   "source": [
    "import torch\n",
    "import torch.nn.functional as F\n",
    "import matplotlib.pyplot as plt\n",
    "%matplotlib inline"
   ]
  },
  {
   "cell_type": "code",
   "execution_count": 2,
   "id": "65297891-daeb-486e-b49c-8c3dd5ce2251",
   "metadata": {},
   "outputs": [
    {
     "data": {
      "text/plain": [
       "['emma', 'olivia', 'ava', 'isabella', 'sophia', 'charlotte', 'mia', 'amelia']"
      ]
     },
     "execution_count": 2,
     "metadata": {},
     "output_type": "execute_result"
    }
   ],
   "source": [
    "# read in all the words\n",
    "words = open('names.txt', 'r').read().splitlines()\n",
    "words[:8]"
   ]
  },
  {
   "cell_type": "code",
   "execution_count": 5,
   "id": "1d896de8-7cd0-4ef0-9d22-f1dda474e01d",
   "metadata": {},
   "outputs": [
    {
     "data": {
      "text/plain": [
       "32033"
      ]
     },
     "execution_count": 5,
     "metadata": {},
     "output_type": "execute_result"
    }
   ],
   "source": [
    "len(words)"
   ]
  },
  {
   "cell_type": "code",
   "execution_count": 11,
   "id": "e32853fc-64b0-4bdd-a836-3db68c133a29",
   "metadata": {},
   "outputs": [
    {
     "name": "stdout",
     "output_type": "stream",
     "text": [
      "{1: 'a', 2: 'b', 3: 'c', 4: 'd', 5: 'e', 6: 'f', 7: 'g', 8: 'h', 9: 'i', 10: 'j', 11: 'k', 12: 'l', 13: 'm', 14: 'n', 15: 'o', 16: 'p', 17: 'q', 18: 'r', 19: 's', 20: 't', 21: 'u', 22: 'v', 23: 'w', 24: 'x', 25: 'y', 26: 'z', 0: '.'}\n",
      "27\n"
     ]
    }
   ],
   "source": [
    "# build the vocabulary of characters and mappings to/from integers\n",
    "chars = sorted(list(set(''.join(words))))\n",
    "stoi = {s:i+1 for i,s in enumerate(chars)}\n",
    "stoi['.'] = 0\n",
    "itos = {i:s for s,i in stoi.items()}\n",
    "vocab_size = len(itos)\n",
    "print(itos)\n",
    "print(vocab_size)"
   ]
  },
  {
   "cell_type": "code",
   "execution_count": 19,
   "id": "f94aaf4e-77f7-478d-9312-0aaad717d151",
   "metadata": {},
   "outputs": [
    {
     "name": "stdout",
     "output_type": "stream",
     "text": [
      "torch.Size([182437, 3]) torch.Size([182437])\n",
      "torch.Size([22781, 3]) torch.Size([22781])\n",
      "torch.Size([22928, 3]) torch.Size([22928])\n"
     ]
    }
   ],
   "source": [
    "block_size = 3\n",
    "\n",
    "def build_dataset(words):\n",
    "\n",
    "    X, Y = [], []\n",
    "    for w in words:\n",
    "\n",
    "        context = [0] * block_size\n",
    "        for ch in w + '.':\n",
    "            ix = stoi[ch]\n",
    "            X.append(context)\n",
    "            Y.append(ix)\n",
    "\n",
    "            context = context[1:] + [ix]\n",
    "    X = torch.tensor(X)\n",
    "    Y = torch.tensor(Y)\n",
    "    print(X.shape, Y.shape)\n",
    "    return X, Y\n",
    "\n",
    "import random\n",
    "random.seed(42)\n",
    "random.shuffle(words)\n",
    "n1 = int(0.8 * len(words))\n",
    "n2 = int(0.9 * len(words))\n",
    "\n",
    "Xtr, Ytr = build_dataset(words[:n1]) # 80% training\n",
    "Xdev, Ydev = build_dataset(words[n1:n2]) # 10% validation\n",
    "Xte, Yte = build_dataset(words[n2:]) # 10% test"
   ]
  },
  {
   "cell_type": "code",
   "execution_count": 111,
   "id": "1821dce5-20f2-41f2-adff-8e1ad737ca87",
   "metadata": {},
   "outputs": [
    {
     "name": "stdout",
     "output_type": "stream",
     "text": [
      "11897\n"
     ]
    }
   ],
   "source": [
    "# MLP Revisited\n",
    "n_embd = 10 # dimensionality of the character embedding vectors\n",
    "n_hidden = 200 # number of neurons in the hidden layer of MLP\n",
    "\n",
    "g = torch.Generator().manual_seed(2147483647)\n",
    "C = torch.randn((vocab_size, n_embd), generator=g) # lookup table\n",
    "\n",
    "# Kaiming init for tanh nonlinearity\n",
    "W1 = torch.randn((n_embd * block_size, n_hidden), generator=g) * (5/3) / ((n_embd * block_size)**0.5) # hidden layer\n",
    "# b1 = torch.randn(n_hidden, generator=g) * 0.01\n",
    "# scaling down to account for tanh neurons not being dead\n",
    "\n",
    "W2 = torch.randn((n_hidden, vocab_size), generator=g) * 0.01 # output layer\n",
    "b2 = torch.randn(vocab_size, generator=g) * 0\n",
    "# want to initialize much smaller logits (closer to 0) \n",
    "\n",
    "# used for Batch Normalization\n",
    "bngain = torch.ones((1, n_hidden))\n",
    "bnbias = torch.zeros((1, n_hidden))\n",
    "bnmean_running = torch.zeros((1, n_hidden))\n",
    "bnstd_running = torch.ones((1, n_hidden))\n",
    "\n",
    "parameters = [C, W1, b1, W2, b2]\n",
    "print(sum(p.nelement() for p in parameters))\n",
    "for p in parameters:\n",
    "    p.requires_grad = True"
   ]
  },
  {
   "cell_type": "code",
   "execution_count": 81,
   "id": "52f52a50-39d5-463a-8c1f-d42fc9b443bf",
   "metadata": {},
   "outputs": [
    {
     "name": "stdout",
     "output_type": "stream",
     "text": [
      "tensor(0.0102) tensor(1.0077)\n",
      "tensor(0.0026) tensor(0.9939)\n"
     ]
    },
    {
     "data": {
      "text/plain": [
       "(array([2.23092476e-05, 4.46184953e-05, 2.23092476e-05, 1.11546238e-04,\n",
       "        1.56164733e-04, 2.45401724e-04, 4.68494200e-04, 5.80040438e-04,\n",
       "        8.70060658e-04, 1.71781207e-03, 2.83327445e-03, 4.55108652e-03,\n",
       "        6.96048526e-03, 1.24708694e-02, 1.97213749e-02, 3.11214004e-02,\n",
       "        4.81879749e-02, 7.12780462e-02, 1.04541134e-01, 1.44206977e-01,\n",
       "        1.91814911e-01, 2.51737550e-01, 3.14627319e-01, 3.70578912e-01,\n",
       "        4.15442809e-01, 4.30970046e-01, 4.18945361e-01, 3.82915926e-01,\n",
       "        3.22948669e-01, 2.59858116e-01, 1.99957787e-01, 1.44876254e-01,\n",
       "        1.04474207e-01, 7.03633670e-02, 4.87457061e-02, 3.07867617e-02,\n",
       "        1.88959327e-02, 1.26939619e-02, 8.61136959e-03, 5.13112696e-03,\n",
       "        2.94482069e-03, 1.67319357e-03, 1.45010110e-03, 5.57731191e-04,\n",
       "        1.78473981e-04, 2.67710972e-04, 1.78473981e-04, 6.69277429e-05,\n",
       "        0.00000000e+00, 4.46184953e-05]),\n",
       " array([-5.72026873, -5.49614642, -5.27202412, -5.04790181, -4.82377951,\n",
       "        -4.5996572 , -4.3755349 , -4.15141259, -3.92729029, -3.70316798,\n",
       "        -3.47904568, -3.25492337, -3.03080107, -2.80667876, -2.58255646,\n",
       "        -2.35843415, -2.13431185, -1.91018954, -1.68606724, -1.46194493,\n",
       "        -1.23782263, -1.01370032, -0.78957802, -0.56545571, -0.34133341,\n",
       "        -0.1172111 ,  0.1069112 ,  0.33103351,  0.55515581,  0.77927812,\n",
       "         1.00340042,  1.22752273,  1.45164503,  1.67576734,  1.89988964,\n",
       "         2.12401195,  2.34813425,  2.57225656,  2.79637886,  3.02050117,\n",
       "         3.24462347,  3.46874578,  3.69286808,  3.91699039,  4.14111269,\n",
       "         4.36523499,  4.5893573 ,  4.8134796 ,  5.03760191,  5.26172421,\n",
       "         5.48584652]),\n",
       " <BarContainer object of 50 artists>)"
      ]
     },
     "execution_count": 81,
     "metadata": {},
     "output_type": "execute_result"
    },
    {
     "data": {
      "image/png": "[encoded data removed]",
      "text/plain": [
       "<Figure size 2000x500 with 2 Axes>"
      ]
     },
     "metadata": {},
     "output_type": "display_data"
    }
   ],
   "source": [
    "x = torch.randn(1000, 10)\n",
    "w = torch.randn(10, 200) / 30**0.5 # want a std of one, divide by square root of fan_in\n",
    "# inspired by Kaiming He et al paper: https://openaccess.thecvf.com/content_iccv_2015/papers/He_Delving_Deep_into_ICCV_2015_paper.pdf\n",
    "\n",
    "y = x @ w\n",
    "print(x.mean(), x.std())\n",
    "print(y.mean(), y.std())\n",
    "plt.figure(figsize=(20, 5))\n",
    "plt.subplot(121)\n",
    "plt.hist(x.view(-1).tolist(), 50, density=True)\n",
    "plt.subplot(122)\n",
    "plt.hist(y.view(-1).tolist(), 50, density=True)"
   ]
  },
  {
   "cell_type": "code",
   "execution_count": 97,
   "id": "fc0c71b6-c0d8-441e-95dc-e9a17f8bfa3a",
   "metadata": {},
   "outputs": [
    {
     "name": "stdout",
     "output_type": "stream",
     "text": [
      "      0/ 200000:  3.2963\n",
      "  10000/ 200000:  1.6929\n",
      "  20000/ 200000:  1.8320\n",
      "  30000/ 200000:  2.3207\n",
      "  40000/ 200000:  2.4915\n",
      "  50000/ 200000:  1.7569\n",
      "  60000/ 200000:  2.4385\n",
      "  70000/ 200000:  2.1219\n",
      "  80000/ 200000:  1.6795\n",
      "  90000/ 200000:  2.1480\n",
      " 100000/ 200000:  2.1768\n",
      " 110000/ 200000:  2.0357\n",
      " 120000/ 200000:  1.7839\n",
      " 130000/ 200000:  1.7549\n",
      " 140000/ 200000:  2.1074\n",
      " 150000/ 200000:  2.1052\n",
      " 160000/ 200000:  1.7375\n",
      " 170000/ 200000:  2.0859\n",
      " 180000/ 200000:  2.5050\n",
      " 190000/ 200000:  1.7592\n",
      "2.1322929859161377\n"
     ]
    }
   ],
   "source": [
    "max_steps = 200000\n",
    "batch_size = 32\n",
    "lossi = []\n",
    "\n",
    "for i in range(max_steps):\n",
    "\n",
    "    # minibatch construct\n",
    "    ix = torch.randint(0, Xtr.shape[0], (batch_size, ), generator=g)\n",
    "    Xb, Yb = Xtr[ix], Ytr[ix] # Batch X, Y\n",
    "    \n",
    "    # forward pass\n",
    "    emb = C[Xb]\n",
    "    embcat = emb.view(emb.shape[0], -1)\n",
    "    hpreact = embcat @ W1 # + b1 # hidden layer pre-activation\n",
    "\n",
    "    # b1.grad() is 0 and is doing nothing because it is getting subtracted when doing Batch Norm\n",
    "\n",
    "    # Batch Normalization: implementation by Ioffe and Szegedy 2015 Google Paper\n",
    "    bnmeani = hpreact.mean(0, keepdim=True)\n",
    "    bnstdi = std(0, keepdim=True)\n",
    "    \n",
    "    hpreact = bngain * (hpreact - bnmeani) / bnstdi + bnbias\n",
    "    \n",
    "    # every neuron on the batch are normalized to Gaussian now\n",
    "    # keeping track of mean and std approximately instead of recalibrating batch norm after\n",
    "    with torch.no_grad():\n",
    "        bnmean_running = 0.999 * bnmean_running + 0.0001 + bnmeani\n",
    "        bnstd_running = 0.999 * bnstd_running + 0.001 * bnstdi\n",
    "    \n",
    "    h = torch.tanh(hpreact)\n",
    "    logits = h @ W2 + b2\n",
    "    loss = F.cross_entropy(logits, Yb)\n",
    "    \n",
    "    # backward pass\n",
    "    for p in parameters:\n",
    "        p.grad = None\n",
    "    loss.backward()\n",
    "\n",
    "    # update\n",
    "    lr = 0.1 if i < 100000 else 0.01\n",
    "    for p in parameters:\n",
    "        p.data += -lr * p.grad\n",
    "\n",
    "    # track stats\n",
    "    if i % 10000 == 0:\n",
    "        print(f'{i:7d}/{max_steps:7d}: {loss.item(): .4f}')\n",
    "    lossi.append(loss.log10().item())\n",
    "\n",
    "print(loss.item())"
   ]
  },
  {
   "cell_type": "code",
   "execution_count": 98,
   "id": "c12debc9-d1db-4f86-b8a0-a149491ce990",
   "metadata": {},
   "outputs": [
    {
     "data": {
      "text/plain": [
       "[<matplotlib.lines.Line2D at 0x26055f87f10>]"
      ]
     },
     "execution_count": 98,
     "metadata": {},
     "output_type": "execute_result"
    },
    {
     "data": {
      "image/png": "[encoded data removed]",
      "text/plain": [
       "<Figure size 640x480 with 1 Axes>"
      ]
     },
     "metadata": {},
     "output_type": "display_data"
    }
   ],
   "source": [
    "plt.plot(lossi)"
   ]
  },
  {
   "cell_type": "code",
   "execution_count": null,
   "id": "2cb6ecb7-0084-4ee7-a5ee-d948870ab613",
   "metadata": {},
   "outputs": [],
   "source": [
    "# calibrate the batch norm at the end of training\n",
    "# no longer needed with running implementation\n",
    "\n",
    "with torch.no_grad():\n",
    "\n",
    "    emb = C[Xtr]\n",
    "    embcat = emb.view(emb.shape[0], -1)\n",
    "    hpreact = embcat @ W1 + b1\n",
    "\n",
    "    bnmean = hpreact.mean(0, keepdim=True)\n",
    "    bnstd = hpreact.std(0, keepdim=True)"
   ]
  },
  {
   "cell_type": "code",
   "execution_count": 99,
   "id": "bf4e2554-19b9-4999-b5af-3247ae786e8e",
   "metadata": {},
   "outputs": [
    {
     "name": "stdout",
     "output_type": "stream",
     "text": [
      "train 2.035102128982544\n",
      "val 2.114867925643921\n"
     ]
    }
   ],
   "source": [
    "@torch.no_grad() # telling torch that I am not calling .backward anywhere\n",
    "def split_loss(split):\n",
    "    x,y = {\n",
    "        'train': (Xtr, Ytr),\n",
    "        'val': (Xdev, Ydev),\n",
    "        'test': (Xte, Yte),\n",
    "    }[split]\n",
    "    emb = C[x]\n",
    "    embcat = emb.view(emb.shape[0], -1)\n",
    "\n",
    "    hpreact = embcat @ W1 + b1 # hidden layer pre-activation\n",
    "\n",
    "    # Batch Normalization has a limitation because of effects of the other elements in the batch\n",
    "    hpreact = bngain * (hpreact - bnmean_running) / bnstd_running + bnbias\n",
    "    \n",
    "    h = torch.tanh(hpreact)\n",
    "    logits = h @ W2 + b2\n",
    "    loss = F.cross_entropy(logits, y)\n",
    "    print(split, loss.item())\n",
    "split_loss('train')\n",
    "split_loss('val')"
   ]
  },
  {
   "cell_type": "code",
   "execution_count": 100,
   "id": "d41b1558-f699-418d-aba7-b1b0beddcfd6",
   "metadata": {},
   "outputs": [
    {
     "name": "stdout",
     "output_type": "stream",
     "text": [
      "montaymyazharel.\n",
      "ndhryah.\n",
      "renyas.\n",
      "emdrie.\n",
      "cadelynnelin.\n",
      "shi.\n",
      "jenne.\n",
      "elissopharleigh.\n",
      "malker.\n",
      "noshubergiaghansh.\n",
      "jaireelynn.\n",
      "novana.\n",
      "ubukghda.\n",
      "jamell.\n",
      "eli.\n",
      "kayshvonny.\n",
      "mahia.\n",
      "salynn.\n",
      "unazarilee.\n",
      "ren.\n"
     ]
    }
   ],
   "source": [
    "# sample from the model\n",
    "g = torch.Generator().manual_seed(2147483647 + 10)\n",
    "\n",
    "for _ in range(20):\n",
    "\n",
    "    out = []\n",
    "    context = [0] * block_size\n",
    "    while True:\n",
    "        emb = C[torch.tensor([context])]\n",
    "        h = torch.tanh(emb.view(1, -1) @ W1 + b1)\n",
    "        logits = h @ W2 + b2\n",
    "        probs = F.softmax(logits, dim=1)\n",
    "        ix = torch.multinomial(probs, num_samples = 1, generator=g).item()\n",
    "        context = context[1:] + [ix]\n",
    "        out.append(ix)\n",
    "        if ix == 0:\n",
    "            break\n",
    "\n",
    "    print(''.join(itos[i] for i in out))"
   ]
  },
  {
   "cell_type": "code",
   "execution_count": null,
   "id": "c89f2564-6154-44ba-a2ce-8a725271cee9",
   "metadata": {},
   "outputs": [],
   "source": []
  }
 ],
 "metadata": {
  "kernelspec": {
   "display_name": "Python 3 (ipykernel)",
   "language": "python",
   "name": "python3"
  },
  "language_info": {
   "codemirror_mode": {
    "name": "ipython",
    "version": 3
   },
   "file_extension": ".py",
   "mimetype": "text/x-python",
   "name": "python",
   "nbconvert_exporter": "python",
   "pygments_lexer": "ipython3",
   "version": "3.11.9"
  }
 },
 "nbformat": 4,
 "nbformat_minor": 5
}
